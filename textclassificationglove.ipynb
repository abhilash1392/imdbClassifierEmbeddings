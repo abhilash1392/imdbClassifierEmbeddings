{
 "cells": [
  {
   "cell_type": "code",
   "execution_count": 1,
   "id": "caring-freedom",
   "metadata": {
    "_cell_guid": "b1076dfc-b9ad-4769-8c92-a6c4dae69d19",
    "_uuid": "8f2839f25d086af736a60e9eeb907d3b93b6e0e5",
    "execution": {
     "iopub.execute_input": "2021-04-20T14:40:14.182552Z",
     "iopub.status.busy": "2021-04-20T14:40:14.181904Z",
     "iopub.status.idle": "2021-04-20T14:40:15.440760Z",
     "shell.execute_reply": "2021-04-20T14:40:15.439862Z"
    },
    "papermill": {
     "duration": 1.276601,
     "end_time": "2021-04-20T14:40:15.440939",
     "exception": false,
     "start_time": "2021-04-20T14:40:14.164338",
     "status": "completed"
    },
    "tags": []
   },
   "outputs": [],
   "source": [
    "import numpy as np \n",
    "import pandas as pd \n",
    "from sklearn.model_selection import train_test_split \n",
    "from sklearn.metrics import accuracy_score"
   ]
  },
  {
   "cell_type": "code",
   "execution_count": 2,
   "id": "considerable-telling",
   "metadata": {
    "execution": {
     "iopub.execute_input": "2021-04-20T14:40:15.469125Z",
     "iopub.status.busy": "2021-04-20T14:40:15.468423Z",
     "iopub.status.idle": "2021-04-20T14:40:17.171890Z",
     "shell.execute_reply": "2021-04-20T14:40:17.171351Z"
    },
    "papermill": {
     "duration": 1.719552,
     "end_time": "2021-04-20T14:40:17.172074",
     "exception": false,
     "start_time": "2021-04-20T14:40:15.452522",
     "status": "completed"
    },
    "tags": []
   },
   "outputs": [
    {
     "data": {
      "text/html": [
       "<div>\n",
       "<style scoped>\n",
       "    .dataframe tbody tr th:only-of-type {\n",
       "        vertical-align: middle;\n",
       "    }\n",
       "\n",
       "    .dataframe tbody tr th {\n",
       "        vertical-align: top;\n",
       "    }\n",
       "\n",
       "    .dataframe thead th {\n",
       "        text-align: right;\n",
       "    }\n",
       "</style>\n",
       "<table border=\"1\" class=\"dataframe\">\n",
       "  <thead>\n",
       "    <tr style=\"text-align: right;\">\n",
       "      <th></th>\n",
       "      <th>review</th>\n",
       "      <th>sentiment</th>\n",
       "    </tr>\n",
       "  </thead>\n",
       "  <tbody>\n",
       "    <tr>\n",
       "      <th>0</th>\n",
       "      <td>One of the other reviewers has mentioned that ...</td>\n",
       "      <td>positive</td>\n",
       "    </tr>\n",
       "    <tr>\n",
       "      <th>1</th>\n",
       "      <td>A wonderful little production. &lt;br /&gt;&lt;br /&gt;The...</td>\n",
       "      <td>positive</td>\n",
       "    </tr>\n",
       "    <tr>\n",
       "      <th>2</th>\n",
       "      <td>I thought this was a wonderful way to spend ti...</td>\n",
       "      <td>positive</td>\n",
       "    </tr>\n",
       "    <tr>\n",
       "      <th>3</th>\n",
       "      <td>Basically there's a family where a little boy ...</td>\n",
       "      <td>negative</td>\n",
       "    </tr>\n",
       "    <tr>\n",
       "      <th>4</th>\n",
       "      <td>Petter Mattei's \"Love in the Time of Money\" is...</td>\n",
       "      <td>positive</td>\n",
       "    </tr>\n",
       "  </tbody>\n",
       "</table>\n",
       "</div>"
      ],
      "text/plain": [
       "                                              review sentiment\n",
       "0  One of the other reviewers has mentioned that ...  positive\n",
       "1  A wonderful little production. <br /><br />The...  positive\n",
       "2  I thought this was a wonderful way to spend ti...  positive\n",
       "3  Basically there's a family where a little boy ...  negative\n",
       "4  Petter Mattei's \"Love in the Time of Money\" is...  positive"
      ]
     },
     "execution_count": 2,
     "metadata": {},
     "output_type": "execute_result"
    }
   ],
   "source": [
    "df = pd.read_csv('../input/imdb-dataset-of-50k-movie-reviews/IMDB Dataset.csv')\n",
    "df.head()"
   ]
  },
  {
   "cell_type": "code",
   "execution_count": 3,
   "id": "streaming-arrow",
   "metadata": {
    "execution": {
     "iopub.execute_input": "2021-04-20T14:40:17.209671Z",
     "iopub.status.busy": "2021-04-20T14:40:17.208398Z",
     "iopub.status.idle": "2021-04-20T14:40:17.215431Z",
     "shell.execute_reply": "2021-04-20T14:40:17.214614Z"
    },
    "papermill": {
     "duration": 0.03126,
     "end_time": "2021-04-20T14:40:17.215591",
     "exception": false,
     "start_time": "2021-04-20T14:40:17.184331",
     "status": "completed"
    },
    "tags": []
   },
   "outputs": [],
   "source": [
    "df['sentiment'] = df['sentiment'].map({'positive':1,'negative':0})"
   ]
  },
  {
   "cell_type": "code",
   "execution_count": 4,
   "id": "confidential-watershed",
   "metadata": {
    "execution": {
     "iopub.execute_input": "2021-04-20T14:40:17.247296Z",
     "iopub.status.busy": "2021-04-20T14:40:17.246498Z",
     "iopub.status.idle": "2021-04-20T14:40:17.256920Z",
     "shell.execute_reply": "2021-04-20T14:40:17.256341Z"
    },
    "papermill": {
     "duration": 0.029452,
     "end_time": "2021-04-20T14:40:17.257120",
     "exception": false,
     "start_time": "2021-04-20T14:40:17.227668",
     "status": "completed"
    },
    "tags": []
   },
   "outputs": [
    {
     "data": {
      "text/plain": [
       "0    25000\n",
       "1    25000\n",
       "Name: sentiment, dtype: int64"
      ]
     },
     "execution_count": 4,
     "metadata": {},
     "output_type": "execute_result"
    }
   ],
   "source": [
    "df.sentiment.value_counts()"
   ]
  },
  {
   "cell_type": "code",
   "execution_count": 5,
   "id": "downtown-worthy",
   "metadata": {
    "execution": {
     "iopub.execute_input": "2021-04-20T14:40:17.286967Z",
     "iopub.status.busy": "2021-04-20T14:40:17.286250Z",
     "iopub.status.idle": "2021-04-20T14:40:17.289897Z",
     "shell.execute_reply": "2021-04-20T14:40:17.289360Z"
    },
    "papermill": {
     "duration": 0.020484,
     "end_time": "2021-04-20T14:40:17.290102",
     "exception": false,
     "start_time": "2021-04-20T14:40:17.269618",
     "status": "completed"
    },
    "tags": []
   },
   "outputs": [],
   "source": [
    "import string"
   ]
  },
  {
   "cell_type": "code",
   "execution_count": 6,
   "id": "opened-booth",
   "metadata": {
    "execution": {
     "iopub.execute_input": "2021-04-20T14:40:17.325201Z",
     "iopub.status.busy": "2021-04-20T14:40:17.324439Z",
     "iopub.status.idle": "2021-04-20T14:40:17.327201Z",
     "shell.execute_reply": "2021-04-20T14:40:17.327746Z"
    },
    "papermill": {
     "duration": 0.024987,
     "end_time": "2021-04-20T14:40:17.327936",
     "exception": false,
     "start_time": "2021-04-20T14:40:17.302949",
     "status": "completed"
    },
    "tags": []
   },
   "outputs": [],
   "source": [
    "def sentence_to_vec(s,embedding_dict,stopwords,tokenizer):\n",
    "    words = str(s).lower()\n",
    "    words = tokenizer(words)\n",
    "    words = [word for word in words if word not in string.punctuation]\n",
    "    words = [word for word in words if word not in stopwords]\n",
    "    words = [word for word in words if word.isalpha()]\n",
    "    \n",
    "    M = []\n",
    "    for w in words:\n",
    "        if w in embedding_dict:\n",
    "            M.append(embedding_dict[w])\n",
    "            \n",
    "    if len(M)==0:\n",
    "        return np.zeros(300)\n",
    "    M=np.array(M)\n",
    "    v = M.sum(axis=0)\n",
    "    return v/np.sqrt((v**2).sum())"
   ]
  },
  {
   "cell_type": "code",
   "execution_count": 7,
   "id": "crazy-premises",
   "metadata": {
    "execution": {
     "iopub.execute_input": "2021-04-20T14:40:17.361594Z",
     "iopub.status.busy": "2021-04-20T14:40:17.360401Z",
     "iopub.status.idle": "2021-04-20T14:40:17.364303Z",
     "shell.execute_reply": "2021-04-20T14:40:17.363713Z"
    },
    "papermill": {
     "duration": 0.023537,
     "end_time": "2021-04-20T14:40:17.364453",
     "exception": false,
     "start_time": "2021-04-20T14:40:17.340916",
     "status": "completed"
    },
    "tags": []
   },
   "outputs": [],
   "source": [
    "def load_embeddings(file):\n",
    "    f = open(file,'r')\n",
    "    gloveModel = {}\n",
    "    for line in f:\n",
    "        splitLines = line.split()\n",
    "        word = splitLines[0]\n",
    "        wordEmbedding = np.array([float(value) for value in splitLines[1:]])\n",
    "        gloveModel[word]=wordEmbedding        \n",
    "    \n",
    "    return gloveModel"
   ]
  },
  {
   "cell_type": "code",
   "execution_count": 8,
   "id": "labeled-arctic",
   "metadata": {
    "execution": {
     "iopub.execute_input": "2021-04-20T14:40:17.395654Z",
     "iopub.status.busy": "2021-04-20T14:40:17.394813Z",
     "iopub.status.idle": "2021-04-20T14:41:15.978844Z",
     "shell.execute_reply": "2021-04-20T14:41:15.978239Z"
    },
    "papermill": {
     "duration": 58.60166,
     "end_time": "2021-04-20T14:41:15.979038",
     "exception": false,
     "start_time": "2021-04-20T14:40:17.377378",
     "status": "completed"
    },
    "tags": []
   },
   "outputs": [
    {
     "name": "stdout",
     "output_type": "stream",
     "text": [
      "Loading embeddings\n"
     ]
    }
   ],
   "source": [
    "print('Loading embeddings')\n",
    "embeddings = load_embeddings('../input/glove-embeddings/glove.6B.300d.txt')"
   ]
  },
  {
   "cell_type": "code",
   "execution_count": 9,
   "id": "labeled-beach",
   "metadata": {
    "execution": {
     "iopub.execute_input": "2021-04-20T14:41:16.015113Z",
     "iopub.status.busy": "2021-04-20T14:41:16.014226Z",
     "iopub.status.idle": "2021-04-20T14:41:16.776840Z",
     "shell.execute_reply": "2021-04-20T14:41:16.776212Z"
    },
    "papermill": {
     "duration": 0.782823,
     "end_time": "2021-04-20T14:41:16.776986",
     "exception": false,
     "start_time": "2021-04-20T14:41:15.994163",
     "status": "completed"
    },
    "tags": []
   },
   "outputs": [],
   "source": [
    "from nltk.tokenize import word_tokenize"
   ]
  },
  {
   "cell_type": "code",
   "execution_count": 10,
   "id": "supposed-intention",
   "metadata": {
    "execution": {
     "iopub.execute_input": "2021-04-20T14:41:16.816917Z",
     "iopub.status.busy": "2021-04-20T14:41:16.816146Z",
     "iopub.status.idle": "2021-04-20T14:44:26.309062Z",
     "shell.execute_reply": "2021-04-20T14:44:26.309589Z"
    },
    "papermill": {
     "duration": 189.518957,
     "end_time": "2021-04-20T14:44:26.309778",
     "exception": false,
     "start_time": "2021-04-20T14:41:16.790821",
     "status": "completed"
    },
    "tags": []
   },
   "outputs": [
    {
     "name": "stdout",
     "output_type": "stream",
     "text": [
      "Done\n"
     ]
    }
   ],
   "source": [
    "vectors = []\n",
    "for review in df.review.values:\n",
    "    vectors.append(sentence_to_vec(s= review,embedding_dict=embeddings,stopwords=[],tokenizer=word_tokenize))\n",
    "    \n",
    "    \n",
    "vectors = np.array(vectors)\n",
    "y = df.sentiment.values\n",
    "print('Done')"
   ]
  },
  {
   "cell_type": "code",
   "execution_count": 11,
   "id": "powerful-affairs",
   "metadata": {
    "execution": {
     "iopub.execute_input": "2021-04-20T14:44:26.346290Z",
     "iopub.status.busy": "2021-04-20T14:44:26.345128Z",
     "iopub.status.idle": "2021-04-20T14:44:26.454412Z",
     "shell.execute_reply": "2021-04-20T14:44:26.453720Z"
    },
    "papermill": {
     "duration": 0.130643,
     "end_time": "2021-04-20T14:44:26.454571",
     "exception": false,
     "start_time": "2021-04-20T14:44:26.323928",
     "status": "completed"
    },
    "tags": []
   },
   "outputs": [],
   "source": [
    "x_train,x_test,y_train,y_test = train_test_split(vectors,y,test_size=0.2,stratify=y)"
   ]
  },
  {
   "cell_type": "code",
   "execution_count": 12,
   "id": "crude-wallet",
   "metadata": {
    "execution": {
     "iopub.execute_input": "2021-04-20T14:44:26.489169Z",
     "iopub.status.busy": "2021-04-20T14:44:26.488399Z",
     "iopub.status.idle": "2021-04-20T14:44:26.492660Z",
     "shell.execute_reply": "2021-04-20T14:44:26.491909Z"
    },
    "papermill": {
     "duration": 0.02363,
     "end_time": "2021-04-20T14:44:26.492904",
     "exception": false,
     "start_time": "2021-04-20T14:44:26.469274",
     "status": "completed"
    },
    "tags": []
   },
   "outputs": [],
   "source": [
    "from sklearn.linear_model import LogisticRegression\n",
    "logreg = LogisticRegression()"
   ]
  },
  {
   "cell_type": "code",
   "execution_count": 13,
   "id": "injured-genome",
   "metadata": {
    "execution": {
     "iopub.execute_input": "2021-04-20T14:44:26.528683Z",
     "iopub.status.busy": "2021-04-20T14:44:26.527354Z",
     "iopub.status.idle": "2021-04-20T14:44:28.981977Z",
     "shell.execute_reply": "2021-04-20T14:44:28.983044Z"
    },
    "papermill": {
     "duration": 2.476197,
     "end_time": "2021-04-20T14:44:28.983356",
     "exception": false,
     "start_time": "2021-04-20T14:44:26.507159",
     "status": "completed"
    },
    "tags": []
   },
   "outputs": [
    {
     "name": "stderr",
     "output_type": "stream",
     "text": [
      "/opt/conda/lib/python3.7/site-packages/sklearn/linear_model/_logistic.py:765: ConvergenceWarning: lbfgs failed to converge (status=1):\n",
      "STOP: TOTAL NO. of ITERATIONS REACHED LIMIT.\n",
      "\n",
      "Increase the number of iterations (max_iter) or scale the data as shown in:\n",
      "    https://scikit-learn.org/stable/modules/preprocessing.html\n",
      "Please also refer to the documentation for alternative solver options:\n",
      "    https://scikit-learn.org/stable/modules/linear_model.html#logistic-regression\n",
      "  extra_warning_msg=_LOGISTIC_SOLVER_CONVERGENCE_MSG)\n"
     ]
    },
    {
     "data": {
      "text/plain": [
       "LogisticRegression()"
      ]
     },
     "execution_count": 13,
     "metadata": {},
     "output_type": "execute_result"
    }
   ],
   "source": [
    "logreg.fit(x_train,y_train)"
   ]
  },
  {
   "cell_type": "code",
   "execution_count": 14,
   "id": "knowing-reward",
   "metadata": {
    "execution": {
     "iopub.execute_input": "2021-04-20T14:44:29.050753Z",
     "iopub.status.busy": "2021-04-20T14:44:29.049432Z",
     "iopub.status.idle": "2021-04-20T14:44:29.057412Z",
     "shell.execute_reply": "2021-04-20T14:44:29.058434Z"
    },
    "papermill": {
     "duration": 0.045394,
     "end_time": "2021-04-20T14:44:29.058758",
     "exception": false,
     "start_time": "2021-04-20T14:44:29.013364",
     "status": "completed"
    },
    "tags": []
   },
   "outputs": [],
   "source": [
    "y_pred = logreg.predict(x_test)"
   ]
  },
  {
   "cell_type": "code",
   "execution_count": 15,
   "id": "smooth-hebrew",
   "metadata": {
    "execution": {
     "iopub.execute_input": "2021-04-20T14:44:29.124207Z",
     "iopub.status.busy": "2021-04-20T14:44:29.123105Z",
     "iopub.status.idle": "2021-04-20T14:44:29.130985Z",
     "shell.execute_reply": "2021-04-20T14:44:29.132561Z"
    },
    "papermill": {
     "duration": 0.046281,
     "end_time": "2021-04-20T14:44:29.132927",
     "exception": false,
     "start_time": "2021-04-20T14:44:29.086646",
     "status": "completed"
    },
    "tags": []
   },
   "outputs": [
    {
     "name": "stdout",
     "output_type": "stream",
     "text": [
      "Accuracy of the model : 0.825\n"
     ]
    }
   ],
   "source": [
    "print('Accuracy of the model : {:.3f}'.format(accuracy_score(y_test,y_pred)))"
   ]
  }
 ],
 "metadata": {
  "kernelspec": {
   "display_name": "Python 3",
   "language": "python",
   "name": "python3"
  },
  "language_info": {
   "codemirror_mode": {
    "name": "ipython",
    "version": 3
   },
   "file_extension": ".py",
   "mimetype": "text/x-python",
   "name": "python",
   "nbconvert_exporter": "python",
   "pygments_lexer": "ipython3",
   "version": "3.7.9"
  },
  "papermill": {
   "default_parameters": {},
   "duration": 263.088709,
   "end_time": "2021-04-20T14:44:30.175691",
   "environment_variables": {},
   "exception": null,
   "input_path": "__notebook__.ipynb",
   "output_path": "__notebook__.ipynb",
   "parameters": {},
   "start_time": "2021-04-20T14:40:07.086982",
   "version": "2.3.2"
  }
 },
 "nbformat": 4,
 "nbformat_minor": 5
}
